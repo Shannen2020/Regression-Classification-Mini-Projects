{
 "cells": [
  {
   "cell_type": "markdown",
   "metadata": {},
   "source": [
    "# Task 2 Classification on the Telco-churn dataset"
   ]
  },
  {
   "cell_type": "markdown",
   "metadata": {},
   "source": [
    "#### Imports"
   ]
  },
  {
   "cell_type": "code",
   "execution_count": 1,
   "metadata": {},
   "outputs": [],
   "source": [
    "import pandas as pd\n",
    "import matplotlib.pyplot as plt\n",
    "import numpy as np"
   ]
  },
  {
   "cell_type": "code",
   "execution_count": 2,
   "metadata": {},
   "outputs": [],
   "source": [
    "%matplotlib inline"
   ]
  },
  {
   "cell_type": "markdown",
   "metadata": {},
   "source": [
    "#### Loading the data"
   ]
  },
  {
   "cell_type": "code",
   "execution_count": 3,
   "metadata": {},
   "outputs": [],
   "source": [
    "data = pd.read_csv('WA_Fn-UseC_-Telco-Customer-Churn.csv')"
   ]
  },
  {
   "cell_type": "markdown",
   "metadata": {},
   "source": [
    "#### 2.1 Visualize the univariate distribution of each continuous feature, and the distribution of the target."
   ]
  },
  {
   "cell_type": "code",
   "execution_count": 4,
   "metadata": {},
   "outputs": [],
   "source": [
    "continuous = ['tenure', 'MonthlyCharges', 'TotalCharges']"
   ]
  },
  {
   "cell_type": "code",
   "execution_count": 5,
   "metadata": {},
   "outputs": [],
   "source": [
    "target = 'Churn'"
   ]
  },
  {
   "cell_type": "markdown",
   "metadata": {},
   "source": [
    "I notice that some NA values in `TotalCharges` are coded as blank spaces and prevent correct parsing of the column to build its histogram. I code them appropriately before going forward:"
   ]
  },
  {
   "cell_type": "code",
   "execution_count": 6,
   "metadata": {},
   "outputs": [],
   "source": [
    "data = data.replace(to_replace = {'TotalCharges': ' '}, value = np.NaN)"
   ]
  },
  {
   "cell_type": "code",
   "execution_count": 7,
   "metadata": {},
   "outputs": [],
   "source": [
    "data['TotalCharges'] = data['TotalCharges'].astype(float)"
   ]
  },
  {
   "cell_type": "code",
   "execution_count": 8,
   "metadata": {},
   "outputs": [
    {
     "data": {
      "image/png": "[encoded data removed]",
      "text/plain": [
       "<Figure size 720x288 with 3 Axes>"
      ]
     },
     "metadata": {
      "needs_background": "light"
     },
     "output_type": "display_data"
    }
   ],
   "source": [
    "# plotting without the NaN values\n",
    "f, ax = plt.subplots(1, 3, figsize=(10, 4))\n",
    "for i in range(3):\n",
    "    var_name = continuous[i]\n",
    "    var_not_nan = data.loc[~np.isnan(data[var_name]), var_name]\n",
    "    ax[i].hist(var_not_nan)\n",
    "    ax[i].set_title(var_name)\n",
    "plt.tight_layout()"
   ]
  },
  {
   "cell_type": "code",
   "execution_count": 9,
   "metadata": {},
   "outputs": [
    {
     "data": {
      "image/png": "[encoded data removed]",
      "text/plain": [
       "<Figure size 432x288 with 1 Axes>"
      ]
     },
     "metadata": {
      "needs_background": "light"
     },
     "output_type": "display_data"
    }
   ],
   "source": [
    "plt.bar(x = ['No', 'Yes'], height = data[target].value_counts())\n",
    "plt.title('Target distribution')\n",
    "plt.show()"
   ]
  },
  {
   "cell_type": "markdown",
   "metadata": {},
   "source": [
    "We have a bit of an imbalance in the target classes here but it could be worse."
   ]
  },
  {
   "cell_type": "markdown",
   "metadata": {},
   "source": [
    "#### 2.2 Split data into training and test set. Build a pipeline for dealing with categorical variables.Evaluate Logistic Regression, linear support vector machines and nearest centroids usingcross-validation. How different are the results? How does scaling the continuous features withStandardScaler influence the results?"
   ]
  },
  {
   "cell_type": "code",
   "execution_count": 10,
   "metadata": {},
   "outputs": [],
   "source": [
    "# encoding target with 0/1\n",
    "data = data.replace(to_replace={'Churn': 'Yes'}, \n",
    "                      value=1)\n",
    "data = data.replace(to_replace={'Churn': 'No'}, \n",
    "                      value=0)"
   ]
  },
  {
   "cell_type": "code",
   "execution_count": 11,
   "metadata": {},
   "outputs": [],
   "source": [
    "X = data.drop(labels=['customerID', 'Churn'], axis=1)"
   ]
  },
  {
   "cell_type": "markdown",
   "metadata": {},
   "source": [
    "*Splitting data intro training and test set:*"
   ]
  },
  {
   "cell_type": "code",
   "execution_count": 12,
   "metadata": {},
   "outputs": [],
   "source": [
    "from sklearn.model_selection import train_test_split"
   ]
  },
  {
   "cell_type": "code",
   "execution_count": 13,
   "metadata": {},
   "outputs": [],
   "source": [
    "train, test, y_train, y_test = train_test_split(X, data[target], random_state=0)"
   ]
  },
  {
   "cell_type": "markdown",
   "metadata": {},
   "source": [
    "*Building a pipeline to deal with categorical features:*"
   ]
  },
  {
   "cell_type": "code",
   "execution_count": 14,
   "metadata": {},
   "outputs": [],
   "source": [
    "categorical = list(set(train.columns) - set(continuous) - {'customerID'})"
   ]
  },
  {
   "cell_type": "code",
   "execution_count": 15,
   "metadata": {},
   "outputs": [],
   "source": [
    "train = train.replace(to_replace={var:np.NaN for var in categorical}, \n",
    "                      value=\"N/A\")"
   ]
  },
  {
   "cell_type": "code",
   "execution_count": 16,
   "metadata": {},
   "outputs": [],
   "source": [
    "from sklearn.preprocessing import OneHotEncoder\n",
    "from sklearn.impute import SimpleImputer\n",
    "from sklearn.compose import make_column_transformer"
   ]
  },
  {
   "cell_type": "markdown",
   "metadata": {},
   "source": [
    "I impute values of `TotalCharges` using median imputation:"
   ]
  },
  {
   "cell_type": "code",
   "execution_count": 17,
   "metadata": {},
   "outputs": [],
   "source": [
    "cat_encoder = OneHotEncoder(categories=[train[var].unique() for var in categorical])\n",
    "cont_imputer = SimpleImputer(strategy='median')\n",
    "preprocess = make_column_transformer((continuous, cont_imputer), \n",
    "                                     (categorical, cat_encoder))"
   ]
  },
  {
   "cell_type": "markdown",
   "metadata": {},
   "source": [
    "*Instantiating the models with default parameters:*"
   ]
  },
  {
   "cell_type": "code",
   "execution_count": 18,
   "metadata": {},
   "outputs": [],
   "source": [
    "from sklearn.linear_model import LogisticRegression\n",
    "from sklearn.svm import LinearSVC\n",
    "from sklearn.neighbors import NearestCentroid"
   ]
  },
  {
   "cell_type": "code",
   "execution_count": 19,
   "metadata": {},
   "outputs": [],
   "source": [
    "# setting the solver to avoid future warnings\n",
    "log_reg = LogisticRegression(solver='lbfgs')\n",
    "svm = LinearSVC()\n",
    "near_cent = NearestCentroid()"
   ]
  },
  {
   "cell_type": "markdown",
   "metadata": {},
   "source": [
    "*Evaluation with cross-validation:*"
   ]
  },
  {
   "cell_type": "markdown",
   "metadata": {},
   "source": [
    "**Faced with a little class imbalance we used F1 score to evaluate our algorithms**"
   ]
  },
  {
   "cell_type": "code",
   "execution_count": 20,
   "metadata": {},
   "outputs": [],
   "source": [
    "from sklearn.pipeline import make_pipeline\n",
    "from sklearn.model_selection import cross_val_score"
   ]
  },
  {
   "cell_type": "code",
   "execution_count": 21,
   "metadata": {},
   "outputs": [],
   "source": [
    "import warnings"
   ]
  },
  {
   "cell_type": "code",
   "execution_count": 22,
   "metadata": {},
   "outputs": [],
   "source": [
    "scores = []\n",
    "model_log = make_pipeline(preprocess, log_reg)\n",
    "model_svm = make_pipeline(preprocess, svm)\n",
    "model_cen = make_pipeline(preprocess, near_cent)\n",
    "# to avoid convergence warnings popping up\n",
    "with warnings.catch_warnings():\n",
    "    warnings.simplefilter(\"ignore\")\n",
    "    cross_v_log = cross_val_score(model_log, train, y_train, cv=5, scoring='f1')\n",
    "    cross_v_svm = cross_val_score(model_svm, train, y_train, cv=5, scoring='f1')\n",
    "    cross_v_cen = cross_val_score(model_cen, train, y_train, cv=5, scoring='f1')\n",
    "scores.append(cross_v_log.mean())\n",
    "scores.append(cross_v_svm.mean())\n",
    "scores.append(cross_v_cen.mean())"
   ]
  },
  {
   "cell_type": "code",
   "execution_count": 23,
   "metadata": {},
   "outputs": [
    {
     "data": {
      "text/html": [
       "<div>\n",
       "<style scoped>\n",
       "    .dataframe tbody tr th:only-of-type {\n",
       "        vertical-align: middle;\n",
       "    }\n",
       "\n",
       "    .dataframe tbody tr th {\n",
       "        vertical-align: top;\n",
       "    }\n",
       "\n",
       "    .dataframe thead th {\n",
       "        text-align: right;\n",
       "    }\n",
       "</style>\n",
       "<table border=\"1\" class=\"dataframe\">\n",
       "  <thead>\n",
       "    <tr style=\"text-align: right;\">\n",
       "      <th></th>\n",
       "      <th>Scores</th>\n",
       "    </tr>\n",
       "  </thead>\n",
       "  <tbody>\n",
       "    <tr>\n",
       "      <th>LogisticRegression</th>\n",
       "      <td>0.605</td>\n",
       "    </tr>\n",
       "    <tr>\n",
       "      <th>SVM</th>\n",
       "      <td>0.424</td>\n",
       "    </tr>\n",
       "    <tr>\n",
       "      <th>NearestCentroid</th>\n",
       "      <td>0.448</td>\n",
       "    </tr>\n",
       "  </tbody>\n",
       "</table>\n",
       "</div>"
      ],
      "text/plain": [
       "                    Scores\n",
       "LogisticRegression   0.605\n",
       "SVM                  0.424\n",
       "NearestCentroid      0.448"
      ]
     },
     "metadata": {},
     "output_type": "display_data"
    }
   ],
   "source": [
    "table = pd.DataFrame({'Scores': np.around(scores, decimals=3)},\n",
    "                      index=['LogisticRegression', 'SVM', 'NearestCentroid'])\n",
    "display(table)"
   ]
  },
  {
   "cell_type": "markdown",
   "metadata": {},
   "source": [
    "**We get a 0.61 F1-score for `LogisticRegression` and significantly lower scores for other models.**"
   ]
  },
  {
   "cell_type": "markdown",
   "metadata": {},
   "source": [
    "*Now with scaling for continuous features:*"
   ]
  },
  {
   "cell_type": "code",
   "execution_count": 24,
   "metadata": {},
   "outputs": [],
   "source": [
    "from sklearn.preprocessing import StandardScaler"
   ]
  },
  {
   "cell_type": "code",
   "execution_count": 25,
   "metadata": {},
   "outputs": [],
   "source": [
    "cont_scaler = StandardScaler()\n",
    "cont_pipe = make_pipeline(cont_imputer, cont_scaler)\n",
    "prepro_scaled = make_column_transformer((continuous, cont_pipe), \n",
    "                                        (categorical, cat_encoder))"
   ]
  },
  {
   "cell_type": "code",
   "execution_count": 26,
   "metadata": {},
   "outputs": [],
   "source": [
    "scores_scaled = []\n",
    "model_log_scaled = make_pipeline(prepro_scaled, log_reg)\n",
    "model_svm_scaled = make_pipeline(prepro_scaled, svm)\n",
    "model_cen_scaled = make_pipeline(prepro_scaled, near_cent)\n",
    "with warnings.catch_warnings():\n",
    "    warnings.simplefilter(\"ignore\")\n",
    "    cross_v_log_s = cross_val_score(model_log_scaled, train, y_train, \n",
    "                                    cv=5, scoring='f1')\n",
    "    cross_v_svm_s = cross_val_score(model_svm_scaled, train, y_train, \n",
    "                                    cv=5, scoring='f1')\n",
    "    cross_v_cen_s = cross_val_score(model_cen_scaled, train, y_train, \n",
    "                                    cv=5, scoring='f1')\n",
    "scores_scaled.append(cross_v_log_s.mean())\n",
    "scores_scaled.append(cross_v_svm_s.mean())\n",
    "scores_scaled.append(cross_v_cen_s.mean())"
   ]
  },
  {
   "cell_type": "code",
   "execution_count": 27,
   "metadata": {},
   "outputs": [
    {
     "data": {
      "text/html": [
       "<div>\n",
       "<style scoped>\n",
       "    .dataframe tbody tr th:only-of-type {\n",
       "        vertical-align: middle;\n",
       "    }\n",
       "\n",
       "    .dataframe tbody tr th {\n",
       "        vertical-align: top;\n",
       "    }\n",
       "\n",
       "    .dataframe thead th {\n",
       "        text-align: right;\n",
       "    }\n",
       "</style>\n",
       "<table border=\"1\" class=\"dataframe\">\n",
       "  <thead>\n",
       "    <tr style=\"text-align: right;\">\n",
       "      <th></th>\n",
       "      <th>Scores</th>\n",
       "    </tr>\n",
       "  </thead>\n",
       "  <tbody>\n",
       "    <tr>\n",
       "      <th>LogisticRegression</th>\n",
       "      <td>0.605</td>\n",
       "    </tr>\n",
       "    <tr>\n",
       "      <th>SVM</th>\n",
       "      <td>0.597</td>\n",
       "    </tr>\n",
       "    <tr>\n",
       "      <th>NearestCentroid</th>\n",
       "      <td>0.621</td>\n",
       "    </tr>\n",
       "  </tbody>\n",
       "</table>\n",
       "</div>"
      ],
      "text/plain": [
       "                    Scores\n",
       "LogisticRegression   0.605\n",
       "SVM                  0.597\n",
       "NearestCentroid      0.621"
      ]
     },
     "metadata": {},
     "output_type": "display_data"
    }
   ],
   "source": [
    "table = pd.DataFrame({'Scores': np.around(scores_scaled, decimals=3)},\n",
    "                      index=['LogisticRegression', 'SVM', 'NearestCentroid'])\n",
    "display(table)"
   ]
  },
  {
   "cell_type": "markdown",
   "metadata": {},
   "source": [
    "**The results have significantly improved for `SVM` and `NearestCentroid` with `SVM` achieving 0.62 F1 score on the validation sets. `LogisticRegression` maintains a 0.61 score.**"
   ]
  },
  {
   "cell_type": "markdown",
   "metadata": {},
   "source": [
    "#### 2.3 Tune the parameters using GridSearchCV. Do the results improve?Visualize the performance as function of the parameters for all three models."
   ]
  },
  {
   "cell_type": "code",
   "execution_count": 28,
   "metadata": {},
   "outputs": [],
   "source": [
    "from sklearn.model_selection import GridSearchCV"
   ]
  },
  {
   "cell_type": "markdown",
   "metadata": {},
   "source": [
    "*Instantiating the parameter grids:*"
   ]
  },
  {
   "cell_type": "code",
   "execution_count": 29,
   "metadata": {},
   "outputs": [],
   "source": [
    "param_grid_log = {'logisticregression__C': np.logspace(-3, 3, 7)}\n",
    "param_grid_svm = {'linearsvc__C': np.logspace(-3, 3, 7)}\n",
    "param_grid_cen = {'nearestcentroid__shrink_threshold': np.linspace(0, 20., 11)}"
   ]
  },
  {
   "cell_type": "markdown",
   "metadata": {},
   "source": [
    "Running the grid searches with scaled input:"
   ]
  },
  {
   "cell_type": "code",
   "execution_count": 30,
   "metadata": {},
   "outputs": [],
   "source": [
    "with warnings.catch_warnings():\n",
    "    warnings.simplefilter(\"ignore\")\n",
    "    grid_log = GridSearchCV(model_log_scaled, param_grid_log, \n",
    "                            cv=5, scoring='f1').fit(train, y_train)\n",
    "    grid_svm = GridSearchCV(model_svm_scaled, param_grid_svm, \n",
    "                            cv=5, scoring='f1').fit(train, y_train)\n",
    "    grid_cen = GridSearchCV(model_cen_scaled, param_grid_cen, \n",
    "                            cv=5, scoring='f1').fit(train, y_train)"
   ]
  },
  {
   "cell_type": "markdown",
   "metadata": {},
   "source": [
    "*Fetching the validation scores:*"
   ]
  },
  {
   "cell_type": "code",
   "execution_count": 31,
   "metadata": {},
   "outputs": [],
   "source": [
    "score_log = grid_log.cv_results_['mean_test_score']\n",
    "score_svm = grid_svm.cv_results_['mean_test_score']\n",
    "score_cen = grid_cen.cv_results_['mean_test_score']"
   ]
  },
  {
   "cell_type": "markdown",
   "metadata": {},
   "source": [
    "*Checking the best parameters as well as the best validation scores:*"
   ]
  },
  {
   "cell_type": "code",
   "execution_count": 32,
   "metadata": {},
   "outputs": [
    {
     "name": "stdout",
     "output_type": "stream",
     "text": [
      "The best logistic regression regularization parameter is 100.0\n",
      "The best logistic regression validation score is 0.6052\n",
      "The previous validation score (with default parameters) was 0.6050\n"
     ]
    }
   ],
   "source": [
    "print(\"The best logistic regression regularization parameter is \" \n",
    "      + str(grid_log.best_params_['logisticregression__C']))\n",
    "print(\"The best logistic regression validation score is %.4f\"\n",
    "      %grid_log.best_score_)\n",
    "print(\"The previous validation score (with default parameters) was %.4f\"\n",
    "      %table.iloc[0, :])"
   ]
  },
  {
   "cell_type": "code",
   "execution_count": 33,
   "metadata": {},
   "outputs": [
    {
     "name": "stdout",
     "output_type": "stream",
     "text": [
      "The best SVM regularization parameter is 1.0\n",
      "The best SVM validation score is 0.5971\n",
      "The previous validation score (with default parameters) was 0.5970\n"
     ]
    }
   ],
   "source": [
    "print(\"The best SVM regularization parameter is \"\n",
    "      + str(grid_svm.best_params_['linearsvc__C']))\n",
    "print(\"The best SVM validation score is %.4f\"\n",
    "      %grid_svm.best_score_)\n",
    "print(\"The previous validation score (with default parameters) was %.4f\"\n",
    "      %table.iloc[1, :])"
   ]
  },
  {
   "cell_type": "code",
   "execution_count": 34,
   "metadata": {},
   "outputs": [
    {
     "data": {
      "text/plain": [
       "0.05263157894736842"
      ]
     },
     "execution_count": 34,
     "metadata": {},
     "output_type": "execute_result"
    }
   ],
   "source": [
    "1/len(X.columns)"
   ]
  },
  {
   "cell_type": "code",
   "execution_count": 35,
   "metadata": {},
   "outputs": [
    {
     "name": "stdout",
     "output_type": "stream",
     "text": [
      "The best nearest centroid shrinking threshold is 0.0\n",
      "The best nearest centroid validation score is 0.6211\n",
      "The previous validation score (with default parameters) was 0.6210\n"
     ]
    }
   ],
   "source": [
    "print(\"The best nearest centroid shrinking threshold is \" \n",
    "      + str(grid_cen.best_params_['nearestcentroid__shrink_threshold']))\n",
    "print(\"The best nearest centroid validation score is %.4f\"\n",
    "      %grid_cen.best_score_)\n",
    "print(\"The previous validation score (with default parameters) was %.4f\"\n",
    "      %table.iloc[2, :])"
   ]
  },
  {
   "cell_type": "markdown",
   "metadata": {},
   "source": [
    "**The results for all models only slightly improved with the grid search. This suggests we either haven't covered the most promising ranges of values for the hyperparameters or that the data's predictive power is limited.**"
   ]
  },
  {
   "cell_type": "markdown",
   "metadata": {},
   "source": [
    "I plot the dependency of the validation score on the parameters for all models:"
   ]
  },
  {
   "cell_type": "code",
   "execution_count": 36,
   "metadata": {},
   "outputs": [
    {
     "data": {
      "image/png": "[encoded data removed]",
      "text/plain": [
       "<Figure size 720x288 with 3 Axes>"
      ]
     },
     "metadata": {
      "needs_background": "light"
     },
     "output_type": "display_data"
    }
   ],
   "source": [
    "f, ax = plt.subplots(1, 3, figsize=(10, 4))\n",
    "\n",
    "ax[0].plot(np.logspace(-3, 3, 7), score_log, color = \"green\")\n",
    "ax[0].set_xscale('log')\n",
    "ax[0].set_ylabel(\"Validation score\")\n",
    "ax[0].set_xlabel(\"C\")\n",
    "ax[0].set_title(\"LogisticRegression\")\n",
    "\n",
    "ax[1].plot(np.logspace(-3, 3, 7), score_log, color = \"orange\")\n",
    "ax[1].set_xscale('log')\n",
    "ax[1].set_ylabel(\"Validation score\")\n",
    "ax[1].set_xlabel(\"C\")\n",
    "ax[1].set_title(\"LinearSVC\")\n",
    "\n",
    "ax[2].plot(np.linspace(0, 20., 11), score_cen, color = \"blue\")\n",
    "ax[2].set_ylabel(\"Validation score\")\n",
    "ax[2].set_xlabel(\"Shrink threshold\")\n",
    "ax[2].set_title(\"NearestCentroid\")\n",
    "\n",
    "plt.show()"
   ]
  },
  {
   "cell_type": "markdown",
   "metadata": {},
   "source": [
    "#### 2.4 Change the cross-validation strategy from ‘stratified k-fold’ to ‘kfold’ with shuffling. Do theparameters that are found change? Do they change if you change the random seed of theshuffling? Or if you change the random state of the split into training and test data?"
   ]
  },
  {
   "cell_type": "markdown",
   "metadata": {},
   "source": [
    "*Checking if the parameters change with `KFold` with shuffling:*"
   ]
  },
  {
   "cell_type": "code",
   "execution_count": 37,
   "metadata": {},
   "outputs": [],
   "source": [
    "from sklearn.model_selection import KFold"
   ]
  },
  {
   "cell_type": "code",
   "execution_count": 38,
   "metadata": {},
   "outputs": [],
   "source": [
    "kfold = KFold(n_splits=5, shuffle=True, random_state = 0)"
   ]
  },
  {
   "cell_type": "code",
   "execution_count": 39,
   "metadata": {},
   "outputs": [],
   "source": [
    "with warnings.catch_warnings():\n",
    "    warnings.simplefilter(\"ignore\")\n",
    "    grid_log_2 = GridSearchCV(model_log_scaled, param_grid_log, \n",
    "                              cv=kfold, scoring='f1').fit(train, y_train)\n",
    "    grid_svm_2 = GridSearchCV(model_svm_scaled, param_grid_svm, \n",
    "                              cv=kfold, scoring='f1').fit(train, y_train)\n",
    "    grid_cen_2 = GridSearchCV(model_cen_scaled, param_grid_cen, \n",
    "                              cv=kfold, scoring='f1').fit(train, y_train)"
   ]
  },
  {
   "cell_type": "code",
   "execution_count": 40,
   "metadata": {},
   "outputs": [
    {
     "name": "stdout",
     "output_type": "stream",
     "text": [
      "The best logistic regression regularization parameter with shuffling is 1.0\n",
      "The best logistic regression validation score with shuffling is 0.6057\n",
      "The best logistic regression regularization parameter without shuffling is 100.0\n",
      "The best logistic regression validation score without shuffling is 0.6052\n"
     ]
    }
   ],
   "source": [
    "print(\"The best logistic regression regularization parameter with shuffling is \" \n",
    "      + str(grid_log_2.best_params_['logisticregression__C']))\n",
    "print(\"The best logistic regression validation score with shuffling is %.4f\"\n",
    "      %grid_log_2.best_score_)\n",
    "print(\"The best logistic regression regularization parameter without shuffling is \" \n",
    "      + str(grid_log.best_params_['logisticregression__C']))\n",
    "print(\"The best logistic regression validation score without shuffling is %.4f\"\n",
    "      %grid_log.best_score_)"
   ]
  },
  {
   "cell_type": "code",
   "execution_count": 41,
   "metadata": {},
   "outputs": [
    {
     "name": "stdout",
     "output_type": "stream",
     "text": [
      "The best SVM regularization parameter with shuffling is 1.0\n",
      "The best SVM validation score with shuffling is 0.5976\n",
      "The best SVM regularization parameter without shuffling is 1.0\n",
      "The best SVM validation score without shuffling is 0.5971\n"
     ]
    }
   ],
   "source": [
    "print(\"The best SVM regularization parameter with shuffling is \" \n",
    "      + str(grid_svm_2.best_params_['linearsvc__C']))\n",
    "print(\"The best SVM validation score with shuffling is %.4f\"\n",
    "      %grid_svm_2.best_score_)\n",
    "print(\"The best SVM regularization parameter without shuffling is \"\n",
    "      + str(grid_svm.best_params_['linearsvc__C']))\n",
    "print(\"The best SVM validation score without shuffling is %.4f\"\n",
    "      %grid_svm.best_score_)"
   ]
  },
  {
   "cell_type": "code",
   "execution_count": 42,
   "metadata": {},
   "outputs": [
    {
     "name": "stdout",
     "output_type": "stream",
     "text": [
      "The best nearest centroid shrinking threshold with shuffling is 0.0\n",
      "The best nearest centroid validation score with shuffling is 0.6192\n",
      "The best nearest centroid shrinking threshold without shuffling is 0.0\n",
      "The best nearest centroid validation score without shuffling is 0.6211\n"
     ]
    }
   ],
   "source": [
    "print(\"The best nearest centroid shrinking threshold with shuffling is \" \n",
    "      + str(grid_cen_2.best_params_['nearestcentroid__shrink_threshold']))\n",
    "print(\"The best nearest centroid validation score with shuffling is %.4f\"\n",
    "      %grid_cen_2.best_score_)\n",
    "print(\"The best nearest centroid shrinking threshold without shuffling is \" \n",
    "      + str(grid_cen.best_params_['nearestcentroid__shrink_threshold']))\n",
    "print(\"The best nearest centroid validation score without shuffling is %.4f\"\n",
    "      %grid_cen.best_score_)"
   ]
  },
  {
   "cell_type": "markdown",
   "metadata": {},
   "source": [
    "**The parameters have not changed for `SVM` and `NearestCentroid`. The regularization parameter for `LogisticRegression` has significantly changed.** "
   ]
  },
  {
   "cell_type": "markdown",
   "metadata": {},
   "source": [
    "*Checking if the parameters change with the random seed:*"
   ]
  },
  {
   "cell_type": "code",
   "execution_count": 43,
   "metadata": {},
   "outputs": [],
   "source": [
    "C_log = []\n",
    "C_svm = []\n",
    "shrink_cen = []\n",
    "n_exp = 20\n",
    "for i in range(n_exp):\n",
    "    kfold = KFold(n_splits=5, shuffle=True, random_state=i)\n",
    "    with warnings.catch_warnings():\n",
    "        warnings.simplefilter(\"ignore\")\n",
    "        grid_log_2 = GridSearchCV(model_log_scaled, param_grid_log, \n",
    "                                  cv=kfold, scoring='f1').fit(train, y_train)\n",
    "        grid_svm_2 = GridSearchCV(model_svm_scaled, param_grid_svm, \n",
    "                                  cv=kfold, scoring='f1').fit(train, y_train)\n",
    "        grid_cen_2 = GridSearchCV(model_cen_scaled, param_grid_cen, \n",
    "                                  cv=kfold, scoring='f1').fit(train, y_train)\n",
    "    C_log.append(grid_log_2.best_params_['logisticregression__C'])\n",
    "    C_svm.append(grid_svm_2.best_params_['linearsvc__C'])\n",
    "    shrink_cen.append(grid_cen_2.best_params_['nearestcentroid__shrink_threshold'])"
   ]
  },
  {
   "cell_type": "code",
   "execution_count": 44,
   "metadata": {},
   "outputs": [],
   "source": [
    "C_log, counts_C_log = np.unique(C_log, return_counts=True)\n",
    "C_svm, counts_C_svm = np.unique(C_svm, return_counts=True)\n",
    "shrink_cen, counts_shrink_cen = np.unique(shrink_cen, return_counts=True)"
   ]
  },
  {
   "cell_type": "markdown",
   "metadata": {},
   "source": [
    "Let us show the proportion of each value of the best parameters retained by each model over the different grid searches:"
   ]
  },
  {
   "cell_type": "code",
   "execution_count": 45,
   "metadata": {},
   "outputs": [],
   "source": [
    "res_log = pd.DataFrame({'C': C_log,\n",
    "                        'Proportion': counts_C_log/n_exp})\n",
    "res_svm = pd.DataFrame({'C': C_svm,\n",
    "                        'Proportion': counts_C_svm/n_exp})\n",
    "res_cen = pd.DataFrame({'Shrink threshold': shrink_cen,\n",
    "                        'Proportion': counts_shrink_cen/n_exp})"
   ]
  },
  {
   "cell_type": "code",
   "execution_count": 46,
   "metadata": {},
   "outputs": [
    {
     "data": {
      "text/html": [
       "<div>\n",
       "<style scoped>\n",
       "    .dataframe tbody tr th:only-of-type {\n",
       "        vertical-align: middle;\n",
       "    }\n",
       "\n",
       "    .dataframe tbody tr th {\n",
       "        vertical-align: top;\n",
       "    }\n",
       "\n",
       "    .dataframe thead th {\n",
       "        text-align: right;\n",
       "    }\n",
       "</style>\n",
       "<table border=\"1\" class=\"dataframe\">\n",
       "  <thead>\n",
       "    <tr style=\"text-align: right;\">\n",
       "      <th></th>\n",
       "      <th>C</th>\n",
       "      <th>Proportion</th>\n",
       "    </tr>\n",
       "  </thead>\n",
       "  <tbody>\n",
       "    <tr>\n",
       "      <th>0</th>\n",
       "      <td>1.0</td>\n",
       "      <td>0.35</td>\n",
       "    </tr>\n",
       "    <tr>\n",
       "      <th>1</th>\n",
       "      <td>10.0</td>\n",
       "      <td>0.15</td>\n",
       "    </tr>\n",
       "    <tr>\n",
       "      <th>2</th>\n",
       "      <td>100.0</td>\n",
       "      <td>0.30</td>\n",
       "    </tr>\n",
       "    <tr>\n",
       "      <th>3</th>\n",
       "      <td>1000.0</td>\n",
       "      <td>0.20</td>\n",
       "    </tr>\n",
       "  </tbody>\n",
       "</table>\n",
       "</div>"
      ],
      "text/plain": [
       "        C  Proportion\n",
       "0     1.0        0.35\n",
       "1    10.0        0.15\n",
       "2   100.0        0.30\n",
       "3  1000.0        0.20"
      ]
     },
     "metadata": {},
     "output_type": "display_data"
    }
   ],
   "source": [
    "display(res_log)"
   ]
  },
  {
   "cell_type": "code",
   "execution_count": 47,
   "metadata": {},
   "outputs": [
    {
     "data": {
      "text/html": [
       "<div>\n",
       "<style scoped>\n",
       "    .dataframe tbody tr th:only-of-type {\n",
       "        vertical-align: middle;\n",
       "    }\n",
       "\n",
       "    .dataframe tbody tr th {\n",
       "        vertical-align: top;\n",
       "    }\n",
       "\n",
       "    .dataframe thead th {\n",
       "        text-align: right;\n",
       "    }\n",
       "</style>\n",
       "<table border=\"1\" class=\"dataframe\">\n",
       "  <thead>\n",
       "    <tr style=\"text-align: right;\">\n",
       "      <th></th>\n",
       "      <th>C</th>\n",
       "      <th>Proportion</th>\n",
       "    </tr>\n",
       "  </thead>\n",
       "  <tbody>\n",
       "    <tr>\n",
       "      <th>0</th>\n",
       "      <td>0.1</td>\n",
       "      <td>0.20</td>\n",
       "    </tr>\n",
       "    <tr>\n",
       "      <th>1</th>\n",
       "      <td>1.0</td>\n",
       "      <td>0.25</td>\n",
       "    </tr>\n",
       "    <tr>\n",
       "      <th>2</th>\n",
       "      <td>10.0</td>\n",
       "      <td>0.55</td>\n",
       "    </tr>\n",
       "  </tbody>\n",
       "</table>\n",
       "</div>"
      ],
      "text/plain": [
       "      C  Proportion\n",
       "0   0.1        0.20\n",
       "1   1.0        0.25\n",
       "2  10.0        0.55"
      ]
     },
     "metadata": {},
     "output_type": "display_data"
    }
   ],
   "source": [
    "display(res_svm)"
   ]
  },
  {
   "cell_type": "code",
   "execution_count": 48,
   "metadata": {},
   "outputs": [
    {
     "data": {
      "text/html": [
       "<div>\n",
       "<style scoped>\n",
       "    .dataframe tbody tr th:only-of-type {\n",
       "        vertical-align: middle;\n",
       "    }\n",
       "\n",
       "    .dataframe tbody tr th {\n",
       "        vertical-align: top;\n",
       "    }\n",
       "\n",
       "    .dataframe thead th {\n",
       "        text-align: right;\n",
       "    }\n",
       "</style>\n",
       "<table border=\"1\" class=\"dataframe\">\n",
       "  <thead>\n",
       "    <tr style=\"text-align: right;\">\n",
       "      <th></th>\n",
       "      <th>Shrink threshold</th>\n",
       "      <th>Proportion</th>\n",
       "    </tr>\n",
       "  </thead>\n",
       "  <tbody>\n",
       "    <tr>\n",
       "      <th>0</th>\n",
       "      <td>0.0</td>\n",
       "      <td>1.0</td>\n",
       "    </tr>\n",
       "  </tbody>\n",
       "</table>\n",
       "</div>"
      ],
      "text/plain": [
       "   Shrink threshold  Proportion\n",
       "0               0.0         1.0"
      ]
     },
     "metadata": {},
     "output_type": "display_data"
    }
   ],
   "source": [
    "display(res_cen)"
   ]
  },
  {
   "cell_type": "markdown",
   "metadata": {},
   "source": [
    "**Visibly changing the random seed in the shuffle procedure changes the preferred parameter for `LogisticRegression` and `SVM` quite significantly. It only selects a zero shrink threshold for `NearestCentroid` (which might suggest the range of thresholds tried is inappropriate, rather than the model's variance is very low).**"
   ]
  },
  {
   "cell_type": "markdown",
   "metadata": {},
   "source": [
    "*Checking if changing the random seed of the `train_test_split` changes the best parameters:*"
   ]
  },
  {
   "cell_type": "code",
   "execution_count": 49,
   "metadata": {},
   "outputs": [],
   "source": [
    "C_log = []\n",
    "C_svm = []\n",
    "shrink_cen = []\n",
    "for i in range(n_exp):\n",
    "    train2, _, y_train2, _ = train_test_split(data, \n",
    "                                              data[target], \n",
    "                                              random_state=i)\n",
    "    train2 = train2.replace(to_replace={var:np.NaN for var in categorical}, \n",
    "                            value=\"N/A\")\n",
    "    train2 = train2.drop(labels=['customerID'], axis=1)\n",
    "    with warnings.catch_warnings():\n",
    "        warnings.simplefilter(\"ignore\")\n",
    "        grid_log_2 = GridSearchCV(model_log_scaled, param_grid_log, \n",
    "                                  cv=5, scoring='f1').fit(train2, y_train2)\n",
    "        grid_svm_2 = GridSearchCV(model_svm_scaled, param_grid_svm, \n",
    "                                  cv=5, scoring='f1').fit(train2, y_train2)\n",
    "        grid_cen_2 = GridSearchCV(model_cen_scaled, param_grid_cen, \n",
    "                                  cv=5, scoring='f1').fit(train, y_train2)\n",
    "    C_log.append(grid_log_2.best_params_['logisticregression__C'])\n",
    "    C_svm.append(grid_svm_2.best_params_['linearsvc__C'])\n",
    "    shrink_cen.append(grid_cen_2.best_params_['nearestcentroid__shrink_threshold'])"
   ]
  },
  {
   "cell_type": "code",
   "execution_count": 50,
   "metadata": {},
   "outputs": [],
   "source": [
    "C_log, counts_C_log = np.unique(C_log, return_counts=True)\n",
    "C_svm, counts_C_svm = np.unique(C_svm, return_counts=True)\n",
    "shrink_cen, counts_shrink_cen = np.unique(shrink_cen, return_counts=True)"
   ]
  },
  {
   "cell_type": "code",
   "execution_count": 51,
   "metadata": {},
   "outputs": [],
   "source": [
    "res_log = pd.DataFrame({'C': C_log,\n",
    "                        'Proportion': counts_C_log/n_exp})\n",
    "res_svm = pd.DataFrame({'C': C_svm,\n",
    "                        'Proportion': counts_C_svm/n_exp})\n",
    "res_cen = pd.DataFrame({'Shrink threshold': shrink_cen,\n",
    "                        'Proportion': counts_shrink_cen/n_exp})"
   ]
  },
  {
   "cell_type": "code",
   "execution_count": 52,
   "metadata": {},
   "outputs": [
    {
     "data": {
      "text/html": [
       "<div>\n",
       "<style scoped>\n",
       "    .dataframe tbody tr th:only-of-type {\n",
       "        vertical-align: middle;\n",
       "    }\n",
       "\n",
       "    .dataframe tbody tr th {\n",
       "        vertical-align: top;\n",
       "    }\n",
       "\n",
       "    .dataframe thead th {\n",
       "        text-align: right;\n",
       "    }\n",
       "</style>\n",
       "<table border=\"1\" class=\"dataframe\">\n",
       "  <thead>\n",
       "    <tr style=\"text-align: right;\">\n",
       "      <th></th>\n",
       "      <th>C</th>\n",
       "      <th>Proportion</th>\n",
       "    </tr>\n",
       "  </thead>\n",
       "  <tbody>\n",
       "    <tr>\n",
       "      <th>0</th>\n",
       "      <td>1.0</td>\n",
       "      <td>0.20</td>\n",
       "    </tr>\n",
       "    <tr>\n",
       "      <th>1</th>\n",
       "      <td>10.0</td>\n",
       "      <td>0.45</td>\n",
       "    </tr>\n",
       "    <tr>\n",
       "      <th>2</th>\n",
       "      <td>100.0</td>\n",
       "      <td>0.30</td>\n",
       "    </tr>\n",
       "    <tr>\n",
       "      <th>3</th>\n",
       "      <td>1000.0</td>\n",
       "      <td>0.05</td>\n",
       "    </tr>\n",
       "  </tbody>\n",
       "</table>\n",
       "</div>"
      ],
      "text/plain": [
       "        C  Proportion\n",
       "0     1.0        0.20\n",
       "1    10.0        0.45\n",
       "2   100.0        0.30\n",
       "3  1000.0        0.05"
      ]
     },
     "metadata": {},
     "output_type": "display_data"
    }
   ],
   "source": [
    "display(res_log)"
   ]
  },
  {
   "cell_type": "code",
   "execution_count": 53,
   "metadata": {},
   "outputs": [
    {
     "data": {
      "text/html": [
       "<div>\n",
       "<style scoped>\n",
       "    .dataframe tbody tr th:only-of-type {\n",
       "        vertical-align: middle;\n",
       "    }\n",
       "\n",
       "    .dataframe tbody tr th {\n",
       "        vertical-align: top;\n",
       "    }\n",
       "\n",
       "    .dataframe thead th {\n",
       "        text-align: right;\n",
       "    }\n",
       "</style>\n",
       "<table border=\"1\" class=\"dataframe\">\n",
       "  <thead>\n",
       "    <tr style=\"text-align: right;\">\n",
       "      <th></th>\n",
       "      <th>C</th>\n",
       "      <th>Proportion</th>\n",
       "    </tr>\n",
       "  </thead>\n",
       "  <tbody>\n",
       "    <tr>\n",
       "      <th>0</th>\n",
       "      <td>0.1</td>\n",
       "      <td>0.15</td>\n",
       "    </tr>\n",
       "    <tr>\n",
       "      <th>1</th>\n",
       "      <td>1.0</td>\n",
       "      <td>0.40</td>\n",
       "    </tr>\n",
       "    <tr>\n",
       "      <th>2</th>\n",
       "      <td>10.0</td>\n",
       "      <td>0.45</td>\n",
       "    </tr>\n",
       "  </tbody>\n",
       "</table>\n",
       "</div>"
      ],
      "text/plain": [
       "      C  Proportion\n",
       "0   0.1        0.15\n",
       "1   1.0        0.40\n",
       "2  10.0        0.45"
      ]
     },
     "metadata": {},
     "output_type": "display_data"
    }
   ],
   "source": [
    "display(res_svm)"
   ]
  },
  {
   "cell_type": "code",
   "execution_count": 54,
   "metadata": {},
   "outputs": [
    {
     "data": {
      "text/html": [
       "<div>\n",
       "<style scoped>\n",
       "    .dataframe tbody tr th:only-of-type {\n",
       "        vertical-align: middle;\n",
       "    }\n",
       "\n",
       "    .dataframe tbody tr th {\n",
       "        vertical-align: top;\n",
       "    }\n",
       "\n",
       "    .dataframe thead th {\n",
       "        text-align: right;\n",
       "    }\n",
       "</style>\n",
       "<table border=\"1\" class=\"dataframe\">\n",
       "  <thead>\n",
       "    <tr style=\"text-align: right;\">\n",
       "      <th></th>\n",
       "      <th>Shrink threshold</th>\n",
       "      <th>Proportion</th>\n",
       "    </tr>\n",
       "  </thead>\n",
       "  <tbody>\n",
       "    <tr>\n",
       "      <th>0</th>\n",
       "      <td>0.0</td>\n",
       "      <td>1.0</td>\n",
       "    </tr>\n",
       "  </tbody>\n",
       "</table>\n",
       "</div>"
      ],
      "text/plain": [
       "   Shrink threshold  Proportion\n",
       "0               0.0         1.0"
      ]
     },
     "metadata": {},
     "output_type": "display_data"
    }
   ],
   "source": [
    "display(res_cen)"
   ]
  },
  {
   "cell_type": "markdown",
   "metadata": {},
   "source": [
    "Same conclusion as last computations."
   ]
  },
  {
   "cell_type": "markdown",
   "metadata": {},
   "source": [
    "#### 2.5 Visualize the coefficients for LogisticRegression and Linear Support Vector Machines usinghyper-parameters that performed well in the grid-search."
   ]
  },
  {
   "cell_type": "markdown",
   "metadata": {},
   "source": [
    "*Visualizing the top-20 coefficients for both models*:"
   ]
  },
  {
   "cell_type": "code",
   "execution_count": 55,
   "metadata": {},
   "outputs": [],
   "source": [
    "with warnings.catch_warnings():\n",
    "    warnings.simplefilter(\"ignore\")\n",
    "    log_best = make_pipeline(prepro_scaled, \n",
    "                             LogisticRegression(C=100, \n",
    "                                                solver='lbfgs')).fit(train, \n",
    "                                                                     y_train)\n",
    "    svm_best = make_pipeline(prepro_scaled, \n",
    "                             LinearSVC(C=10)).fit(train, y_train)"
   ]
  },
  {
   "cell_type": "code",
   "execution_count": 56,
   "metadata": {},
   "outputs": [],
   "source": [
    "log_coef = log_best.named_steps['logisticregression'].coef_[0]\n",
    "svm_coef = svm_best.named_steps['linearsvc'].coef_[0]"
   ]
  },
  {
   "cell_type": "code",
   "execution_count": 57,
   "metadata": {},
   "outputs": [],
   "source": [
    "log_indices = np.argsort(-np.absolute(log_coef))[:20]\n",
    "svm_indices = np.argsort(-np.absolute(svm_coef))[:20]"
   ]
  },
  {
   "cell_type": "code",
   "execution_count": 58,
   "metadata": {},
   "outputs": [],
   "source": [
    "log_largest_coef = log_coef[log_indices]\n",
    "svm_largest_coef = svm_coef[svm_indices]"
   ]
  },
  {
   "cell_type": "code",
   "execution_count": 59,
   "metadata": {},
   "outputs": [
    {
     "data": {
      "image/png": "[encoded data removed]",
      "text/plain": [
       "<Figure size 864x504 with 2 Axes>"
      ]
     },
     "metadata": {
      "needs_background": "light"
     },
     "output_type": "display_data"
    }
   ],
   "source": [
    "f, ax = plt.subplots(1, 2, figsize=(12, 7))\n",
    "\n",
    "ax[0].bar(range(1, 21), log_largest_coef, color = \"green\")\n",
    "ax[0].set_xticks(range(1, 21))\n",
    "ax[0].set_xticklabels(log_indices, rotation = 90)\n",
    "ax[0].set_title(\"LogisticRegression\")\n",
    "\n",
    "ax[1].bar(range(1, 21), svm_largest_coef, color = \"blue\")\n",
    "ax[1].set_xticks(range(1, 21))\n",
    "ax[1].set_xticklabels(svm_indices, rotation = 90)\n",
    "ax[1].set_title(\"SVM\")\n",
    "\n",
    "plt.tight_layout()\n",
    "plt.show()"
   ]
  }
 ],
 "metadata": {
  "kernelspec": {
   "display_name": "Python 3",
   "language": "python",
   "name": "python3"
  },
  "language_info": {
   "codemirror_mode": {
    "name": "ipython",
    "version": 3
   },
   "file_extension": ".py",
   "mimetype": "text/x-python",
   "name": "python",
   "nbconvert_exporter": "python",
   "pygments_lexer": "ipython3",
   "version": "3.6.8"
  }
 },
 "nbformat": 4,
 "nbformat_minor": 2
}
